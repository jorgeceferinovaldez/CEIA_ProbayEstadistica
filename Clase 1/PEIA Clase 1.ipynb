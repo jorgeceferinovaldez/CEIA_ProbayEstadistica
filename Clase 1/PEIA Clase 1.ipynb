{
 "cells": [
  {
   "cell_type": "code",
   "execution_count": 3,
   "metadata": {},
   "outputs": [],
   "source": [
    "from scipy import stats \n",
    "from numpy import sqrt"
   ]
  },
  {
   "cell_type": "markdown",
   "metadata": {},
   "source": [
    "# Ejercicio 0\n",
    "\n",
    "Se tira sucesivamente un dado\n",
    "1. Probabilidad de necesitar menos de 3 tiros hasta ver el primer 2\n",
    "2. Probabilidad de ver exactamente un 2 en 5 tiros"
   ]
  },
  {
   "cell_type": "code",
   "execution_count": 7,
   "metadata": {},
   "outputs": [
    {
     "data": {
      "text/plain": [
       "0.3055555555555555"
      ]
     },
     "execution_count": 7,
     "metadata": {},
     "output_type": "execute_result"
    }
   ],
   "source": [
    "P1 = stats.geom(1/6).cdf(2)\n",
    "P1#1/6+5/6*1/6"
   ]
  },
  {
   "cell_type": "code",
   "execution_count": 5,
   "metadata": {},
   "outputs": [
    {
     "data": {
      "text/plain": [
       "0.40187757201646074"
      ]
     },
     "execution_count": 5,
     "metadata": {},
     "output_type": "execute_result"
    }
   ],
   "source": [
    "P2 = stats.binom(5,1/6).pmf(1)\n",
    "P2#5*1/6*(5/6)**4"
   ]
  },
  {
   "cell_type": "markdown",
   "metadata": {},
   "source": [
    "# Ejercicio 1\n",
    "\n",
    "Sea X una v.a con distribución normal estándar. Hallar la probabilidad de que\n",
    "1. X>1\n",
    "2. X<-1\n",
    "3. |X| <2\n",
    "4. Hallar los cuantiles 0.1 y 0.9\n",
    "\n",
    "Sea además Y ~ N(2,9)\n",
    "1. Hallar P(2X+Y <5)"
   ]
  },
  {
   "cell_type": "code",
   "execution_count": 6,
   "metadata": {},
   "outputs": [
    {
     "data": {
      "text/plain": [
       "0.15865525393145707"
      ]
     },
     "execution_count": 6,
     "metadata": {},
     "output_type": "execute_result"
    }
   ],
   "source": [
    "P1 = 1- stats.norm.cdf(1)\n",
    "P1"
   ]
  },
  {
   "cell_type": "code",
   "execution_count": null,
   "metadata": {},
   "outputs": [
    {
     "data": {
      "text/plain": [
       "0.15865525393145707"
      ]
     },
     "execution_count": 5,
     "metadata": {},
     "output_type": "execute_result"
    }
   ],
   "source": [
    "P2 = stats.norm.cdf(-1)\n",
    "P2"
   ]
  },
  {
   "cell_type": "code",
   "execution_count": null,
   "metadata": {},
   "outputs": [
    {
     "data": {
      "text/plain": [
       "-1.2815515655446004"
      ]
     },
     "execution_count": 6,
     "metadata": {},
     "output_type": "execute_result"
    }
   ],
   "source": [
    "Q1 = stats.norm.ppf(0.1)\n",
    "Q1"
   ]
  },
  {
   "cell_type": "code",
   "execution_count": null,
   "metadata": {},
   "outputs": [
    {
     "data": {
      "text/plain": [
       "0.7973097217705288"
      ]
     },
     "execution_count": 7,
     "metadata": {},
     "output_type": "execute_result"
    }
   ],
   "source": [
    "P3 = stats.norm.cdf(5, loc=2, scale=sqrt(13))\n",
    "P3"
   ]
  },
  {
   "cell_type": "code",
   "execution_count": null,
   "metadata": {},
   "outputs": [
    {
     "data": {
      "text/plain": [
       "0.7973097217705288"
      ]
     },
     "execution_count": 8,
     "metadata": {},
     "output_type": "execute_result"
    }
   ],
   "source": [
    "P3b = stats.norm.cdf((5-2)/sqrt(13))\n",
    "P3b"
   ]
  },
  {
   "cell_type": "markdown",
   "metadata": {},
   "source": [
    "# Ejercicio 2\n",
    "\n",
    "El tiempo (en minutos) entre llamadas a un call center tiene una\n",
    "distribución exponencial de parámetro 1/5.\n",
    "1. Calcular la probabilidad de que la primer llamada llegue después de 2\n",
    "minutos\n",
    "2. Calcular la probabilidad de que la primer llamada llegue después de\n",
    "los 5 minutos, si se sabe que en los primeros 3 minutos no se\n",
    "recibieron llamados"
   ]
  },
  {
   "cell_type": "code",
   "execution_count": null,
   "metadata": {},
   "outputs": [
    {
     "data": {
      "text/plain": [
       "0.6703200460356393"
      ]
     },
     "execution_count": 9,
     "metadata": {},
     "output_type": "execute_result"
    }
   ],
   "source": [
    "P1 = 1-stats.expon(scale=5.).cdf(2)# scale=1/lambda\n",
    "P1"
   ]
  },
  {
   "cell_type": "code",
   "execution_count": null,
   "metadata": {},
   "outputs": [
    {
     "data": {
      "text/plain": [
       "0.6703200460356392"
      ]
     },
     "execution_count": 10,
     "metadata": {},
     "output_type": "execute_result"
    }
   ],
   "source": [
    "P2a = 1-stats.expon(scale=5.).cdf(5)\n",
    "P2b = 1-stats.expon(scale=5.).cdf(3)\n",
    "P2=P2a/P2b\n",
    "P2"
   ]
  },
  {
   "attachments": {
    "image.png": {
     "image/png": "[encoded data removed]"
    }
   },
   "cell_type": "markdown",
   "metadata": {},
   "source": [
    "# Ejercicio 3\n",
    "\n",
    "Sean X,Y dos v.a. Con función de densidad conjunta\n",
    "\n",
    "![image.png](attachment:image.png)\n",
    "\n",
    "1. Calcular E[X], E[Y], var(X), var(Y), y cov(X,Y)\n",
    "2. Hallar las densidades marginales de X e Y\n",
    "3. Calcular P(X<2, Y<-1)"
   ]
  },
  {
   "cell_type": "code",
   "execution_count": null,
   "metadata": {},
   "outputs": [
    {
     "data": {
      "text/plain": [
       "0.13779566999920148"
      ]
     },
     "execution_count": 11,
     "metadata": {},
     "output_type": "execute_result"
    }
   ],
   "source": [
    "P1 = stats.multivariate_normal([0., 0.], [[1.0, -0.8], [-0.8, 1.0]]).cdf([2.,-1.])\n",
    "P1"
   ]
  }
 ],
 "metadata": {
  "kernelspec": {
   "display_name": "Python 3",
   "language": "python",
   "name": "python3"
  },
  "language_info": {
   "codemirror_mode": {
    "name": "ipython",
    "version": 3
   },
   "file_extension": ".py",
   "mimetype": "text/x-python",
   "name": "python",
   "nbconvert_exporter": "python",
   "pygments_lexer": "ipython3",
   "version": "3.8.10"
  }
 },
 "nbformat": 4,
 "nbformat_minor": 2
}
